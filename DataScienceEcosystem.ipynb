{
 "cells": [
  {
   "cell_type": "markdown",
   "id": "42338fb8-44dd-4ba5-bc96-e6ab84f6faf9",
   "metadata": {},
   "source": [
    "# Data Science Tools and Ecosystem"
   ]
  },
  {
   "cell_type": "markdown",
   "id": "db4866b1-766c-4b16-b818-6f8eaa12ee8b",
   "metadata": {},
   "source": [
    "In this notebook, Data Science Tools and Ecosystem are summarized."
   ]
  },
  {
   "cell_type": "markdown",
   "id": "1a71098c-0cc6-4f29-bb3f-914ffa7dc7ea",
   "metadata": {},
   "source": [
    "Some of the popular languages that Data Scientists use are:\n",
    "\n",
    "1. Python\n",
    "2. R\n",
    "3. SQL"
   ]
  },
  {
   "cell_type": "markdown",
   "id": "adff53e5-79be-44e1-ab6e-52360da38319",
   "metadata": {},
   "source": [
    "Some of the commonly used libraries used by Data Scientists include:\n",
    "\n",
    "1. Pandas\n",
    "2. NumPy\n",
    "3. Matplotlib"
   ]
  },
  {
   "cell_type": "markdown",
   "id": "14762ad0-7d19-426f-86e9-29f511e908c5",
   "metadata": {},
   "source": [
    "| Data Science Tools |\n",
    "|-------------------------|\n",
    "| Jupyter Notebook        |\n",
    "| Jupter Lab              |\n",
    "| Spyder                  |"
   ]
  },
  {
   "cell_type": "markdown",
   "id": "c7a2deb8-ec3d-4155-81b1-32a9e2db3c61",
   "metadata": {},
   "source": [
    "Below are a few examples of evaluating arithmetic expressions in Python.\n",
    "1. 2 + 3\n",
    "2. 3 + 4"
   ]
  },
  {
   "cell_type": "code",
   "execution_count": 1,
   "id": "357ae2e7-4640-4767-a4a2-b1c3e2757788",
   "metadata": {
    "tags": []
   },
   "outputs": [
    {
     "data": {
      "text/plain": [
       "17"
      ]
     },
     "execution_count": 1,
     "metadata": {},
     "output_type": "execute_result"
    }
   ],
   "source": [
    "## This a simple arithmetic expression to mutiply then add integers\n",
    "(3*4)+5"
   ]
  },
  {
   "cell_type": "code",
   "execution_count": 2,
   "id": "c5dd9ffc-af9f-47bf-9d57-f4019f43984b",
   "metadata": {
    "tags": []
   },
   "outputs": [
    {
     "data": {
      "text/plain": [
       "3.3333333333333335"
      ]
     },
     "execution_count": 2,
     "metadata": {},
     "output_type": "execute_result"
    }
   ],
   "source": [
    "#  This will convert 200 minutes to hours by diving by 60\n",
    "hours = 200 / 60\n",
    "hours"
   ]
  },
  {
   "cell_type": "markdown",
   "id": "22861002-8038-4272-9d3c-42af7b01cb13",
   "metadata": {},
   "source": [
    "**Objectives:**\n",
    "\n",
    "1. Using markdown cells in Jupter notebook\n",
    "2. List popular languages for Data Science\n",
    "3. List commonly library used by Data Scientist"
   ]
  },
  {
   "cell_type": "markdown",
   "id": "5c886caf-679f-4c46-8841-839d1fb209e0",
   "metadata": {},
   "source": [
    "## Author\n",
    "Yuen Man Ho"
   ]
  },
  {
   "cell_type": "code",
   "execution_count": null,
   "id": "0bb67395-5594-4fc2-af56-810107acfb9e",
   "metadata": {},
   "outputs": [],
   "source": []
  }
 ],
 "metadata": {
  "kernelspec": {
   "display_name": "Python 3 (ipykernel)",
   "language": "python",
   "name": "python3"
  },
  "language_info": {
   "codemirror_mode": {
    "name": "ipython",
    "version": 3
   },
   "file_extension": ".py",
   "mimetype": "text/x-python",
   "name": "python",
   "nbconvert_exporter": "python",
   "pygments_lexer": "ipython3",
   "version": "3.11.3"
  }
 },
 "nbformat": 4,
 "nbformat_minor": 5
}

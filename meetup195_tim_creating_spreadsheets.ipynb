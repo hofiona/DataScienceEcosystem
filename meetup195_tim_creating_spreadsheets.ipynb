{
  "nbformat": 4,
  "nbformat_minor": 0,
  "metadata": {
    "colab": {
      "private_outputs": true,
      "provenance": [],
      "include_colab_link": true
    },
    "kernelspec": {
      "name": "python3",
      "display_name": "Python 3"
    },
    "language_info": {
      "name": "python"
    }
  },
  "cells": [
    {
      "cell_type": "markdown",
      "metadata": {
        "id": "view-in-github",
        "colab_type": "text"
      },
      "source": [
        "<a href=\"https://colab.research.google.com/github/hofiona/DataScienceEcosystem/blob/main/meetup195_tim_creating_spreadsheets.ipynb\" target=\"_parent\"><img src=\"https://colab.research.google.com/assets/colab-badge.svg\" alt=\"Open In Colab\"/></a>"
      ]
    },
    {
      "cell_type": "markdown",
      "metadata": {
        "id": "KrncyIZU3SJD"
      },
      "source": [
        "# MeetUp 195 - Beginners' Python and Machine Learning - 17 Jan 2024 - Creating spreadsheets from Python\n",
        "\n",
        "Learning objectives:\n",
        "- parsing text files\n",
        "- Saving and reading spreadsheets\n",
        "\n",
        "The objective today is to parse all the beginners' python and machine learning python scripts for Youtube links and save them in a spreadsheet.\n",
        "\n",
        "Links:\n",
        "- Colab:   <https://colab.research.google.com/drive/1F80l2NXf48M4U3VGw4RvCpkpdMmcR01O>\n",
        "- Youtube: <https://youtu.be/xsgSX7Thawg>\n",
        "- Meetup:  <https://www.meetup.com/beginners-python-machine-learning/events/298429431/>\n",
        "- Github:  <https://github.com/timcu/bpaml-sessions/tree/master/online>\n",
        "\n",
        "@author D Tim Cummings\n"
      ]
    },
    {
      "cell_type": "code",
      "metadata": {
        "id": "CCKoVDV43HGr"
      },
      "source": [
        "# Clone the github repository so we can create some data to populate our spreadsheet\n",
        "# We are going to parse the python scripts from all our meetups and make a table in a spreadsheet\n",
        "# To run command line operations in google colab, start the line with !\n",
        "!git clone https://github.com/timcu/bpaml-sessions.git"
      ],
      "execution_count": null,
      "outputs": []
    },
    {
      "cell_type": "code",
      "metadata": {
        "id": "krlDpBlB4NF_"
      },
      "source": [
        "# Read all the python script names in the online directory\n",
        "# Use pathlib which is Python's object oriented way of using files and directories\n",
        "# https://docs.python.org/3/library/pathlib.html\n",
        "from pathlib import Path\n",
        "online_directory = Path('bpaml-sessions/online')\n",
        "# only want scripts (ends in .py) and markdown files (ends in .md) written by tim\n",
        "lst_scripts = list(online_directory.glob(\"*_tim_*.py\")) + list(online_directory.glob(\"*_tim_*.md\"))\n",
        "for f in lst_scripts:\n",
        "    print(f)\n",
        "print(type(f))"
      ],
      "execution_count": null,
      "outputs": []
    },
    {
      "cell_type": "code",
      "metadata": {
        "id": "8RrG8qvW4zQS"
      },
      "source": [
        "# Sort the list using sort method\n",
        "lst_scripts.sort()\n",
        "lst_scripts"
      ],
      "execution_count": null,
      "outputs": []
    },
    {
      "cell_type": "code",
      "metadata": {
        "id": "iPGqATIHNWl5"
      },
      "source": [
        "# Save list of python scripts to an excel spreadsheet\n",
        "# xlsxwriter is very good if you don't need to read an excel spreadsheet.\n",
        "# xlsxwriter is the most configurable when exporting from pandas DataFrames\n",
        "# https://xlsxwriter.readthedocs.io/\n",
        "# xlsxwriter doesn't come with google colab (or anaconda) so need to install it\n",
        "!pip install xlsxwriter"
      ],
      "execution_count": null,
      "outputs": []
    },
    {
      "cell_type": "code",
      "metadata": {
        "id": "M_YZo-0GNWi9"
      },
      "source": [
        "# Example of creating workbook with a worksheet called scripts\n",
        "import xlsxwriter\n",
        "# use 'with' so don't need to remember to close or if error jumps out of code and misses close command\n",
        "with xlsxwriter.Workbook(\"bpaml-links-0.xlsx\") as workbook:\n",
        "    worksheet = workbook.add_worksheet(\"scripts\")\n",
        "    # enumerate gives index and value for loop because sometimes we want both and this saves a line of code\n",
        "    for i, script in enumerate(lst_scripts):\n",
        "        # have to convert PosixPath to str\n",
        "        # write(row, col, value), row and column are zero indexed\n",
        "        worksheet.write(i, 0, str(script))"
      ],
      "execution_count": null,
      "outputs": []
    },
    {
      "cell_type": "code",
      "metadata": {
        "id": "oVSyaXvq2Cwc"
      },
      "source": [
        "# PurePath can split filename easily into parts\n",
        "s = lst_scripts[0]\n",
        "print(f\"s         {s}\")\n",
        "print(f\"s.name    {s.name}\")\n",
        "print(f\"s.stem    {s.stem}\")\n",
        "print(f\"s.suffix  {s.suffix}\")\n",
        "print(f\"s.parent  {s.parent}\")\n",
        "print(f\"s.parents {list(s.parents)}\")"
      ],
      "execution_count": null,
      "outputs": []
    },
    {
      "cell_type": "code",
      "metadata": {
        "id": "mOLSFwdXNWf5"
      },
      "source": [
        "# Task 1: Store index i in column \"A\" and the script name without the suffix in column \"B\""
      ],
      "execution_count": null,
      "outputs": []
    },
    {
      "cell_type": "code",
      "metadata": {
        "id": "qtH_FMwONWdU"
      },
      "source": [],
      "execution_count": null,
      "outputs": []
    },
    {
      "cell_type": "code",
      "metadata": {
        "id": "TgKzuIO4NWaY"
      },
      "source": [
        "# Solution 1:\n",
        "with xlsxwriter.Workbook(\"bpaml-links-1.xlsx\") as workbook:\n",
        "    worksheet = workbook.add_worksheet(\"scripts\")\n",
        "    # You can also use \"A1\" type references when using write\n",
        "    worksheet.write(\"A1\", \"Index\")\n",
        "    worksheet.write(\"B1\", \"Script name\")\n",
        "    # Set column widths\n",
        "    worksheet.set_column(\"B:B\", 50)\n",
        "    for i, script in enumerate(lst_scripts):\n",
        "        # write is an alias for write_string, write_number, write_blank, write_formula, write_datetime, write_boolean, write_url\n",
        "        worksheet.write_number(i + 1, 0, i)\n",
        "        worksheet.write_string(i + 1, 1, script.stem)"
      ],
      "execution_count": null,
      "outputs": []
    },
    {
      "cell_type": "code",
      "metadata": {
        "id": "RCbP2jEHNWUk"
      },
      "source": [
        "# Task 2: Use \"A1\" type references to write script stems"
      ],
      "execution_count": null,
      "outputs": []
    },
    {
      "cell_type": "code",
      "metadata": {
        "id": "tMxQNIgD8ZDM"
      },
      "source": [],
      "execution_count": null,
      "outputs": []
    },
    {
      "cell_type": "code",
      "metadata": {
        "id": "9YES8Y6fNWSL"
      },
      "source": [
        "# Solution 2\n",
        "with xlsxwriter.Workbook(\"bpaml-links-2.xlsx\") as workbook:\n",
        "    worksheet = workbook.add_worksheet(\"scripts\")\n",
        "    # Create horizontal alignment format for first column\n",
        "    fmt_centre = workbook.add_format({\"align\": \"center\"})\n",
        "    worksheet.write(\"A1\", \"Meetup\"     , fmt_centre)\n",
        "    worksheet.write(\"B1\", \"Script name\")\n",
        "    # Set column widths\n",
        "    worksheet.set_column(\"B:B\", 50)\n",
        "    for i, script in enumerate(lst_scripts):\n",
        "        row = i + 2\n",
        "        meetup = int(script.name[6:9])\n",
        "        worksheet.write(f\"A{row}\", meetup     , fmt_centre)\n",
        "        worksheet.write(f\"B{row}\", script.stem)\n",
        "    # Calculate total of all meetup numbers (may need to press F9 if opening in LibreOffice)\n",
        "    worksheet.write(f\"A{row+2}\", f\"=SUM(A2:A{row})\", fmt_centre)"
      ],
      "execution_count": null,
      "outputs": []
    },
    {
      "cell_type": "code",
      "metadata": {
        "id": "9ZvA9HJWNWOJ"
      },
      "source": [
        "# Task 3 Format first row in bold using {\"bold\", True}"
      ],
      "execution_count": null,
      "outputs": []
    },
    {
      "cell_type": "code",
      "metadata": {
        "id": "MFWGp5-CDbPG"
      },
      "source": [],
      "execution_count": null,
      "outputs": []
    },
    {
      "cell_type": "code",
      "metadata": {
        "id": "KX08wRWiDa6a"
      },
      "source": [
        "# Solution 3\n",
        "with xlsxwriter.Workbook(\"bpaml-links-3.xlsx\") as workbook:\n",
        "    worksheet = workbook.add_worksheet(\"scripts\")\n",
        "    dcf_col_a = {\"align\": \"center\", \"num_format\": \"000\"}\n",
        "    dcf_row_1 = {\"bold\": True}\n",
        "    # Merge two dicts without affecting originals\n",
        "    dcf_a1 = dcf_col_a | dcf_row_1\n",
        "    # Merge two dicts without affecting originals (pre Python 3.5)\n",
        "    # dcf_a1.update(dcf_col_a)  # inherit all formats from column A\n",
        "    # dcf_a1.update(dcf_row_1)  # inherit all formats from row 1\n",
        "\n",
        "    # Merge two dicts without affecting originals (Python 3.5 - 3.8)\n",
        "    # dct_a1 = {**dcf_col_a, **dcf_row_1}\n",
        "\n",
        "    # Merge two dicts without affecting originals (Python 3.9+)\n",
        "    # dct_a1 = dcf_col_a | dcf_row_1\n",
        "\n",
        "    fmt_col_a = workbook.add_format(dcf_col_a)\n",
        "    fmt_row_1 = workbook.add_format(dcf_row_1)\n",
        "    fmt_a1 = workbook.add_format(dcf_a1)\n",
        "    worksheet.write(\"A1\", \"Meetup\"     , fmt_a1)\n",
        "    worksheet.write(\"B1\", \"Script name\", fmt_row_1)\n",
        "    # Set column widths\n",
        "    worksheet.set_column(\"B:B\", 50)\n",
        "    for i, script in enumerate(lst_scripts):\n",
        "        row = i + 2\n",
        "        meetup = int(script.name[6:9])\n",
        "        worksheet.write(f\"A{row}\", meetup     , fmt_col_a)\n",
        "        worksheet.write(f\"B{row}\", script.stem)\n",
        "    # Calculate total of all meetup numbers (may need to press F9 if opening in LibreOffice)\n",
        "    worksheet.write(f\"A{row+2}\", f\"=SUM(A2:A{row})\", fmt_col_a)"
      ],
      "execution_count": null,
      "outputs": []
    },
    {
      "cell_type": "code",
      "metadata": {
        "id": "D1isuIbb6cXR"
      },
      "source": [
        "# Open first file and read the first 10 lines\n",
        "# 'with' command ensures file is automatically closed when finished with\n",
        "with open(lst_scripts[0]) as f:\n",
        "    # get text from file one line at a time\n",
        "    # can also use \"f.readlines()\" or \"for line in f\" which keep '\\n'\n",
        "    lines = f.read().splitlines()\n",
        "    for line in lines[0:10]:\n",
        "        print(line)"
      ],
      "execution_count": null,
      "outputs": []
    },
    {
      "cell_type": "code",
      "metadata": {
        "id": "Vuj-DzLQb2ly"
      },
      "source": [
        "# Task 4: # Open 22nd file and read the first 10 lines"
      ],
      "execution_count": null,
      "outputs": []
    },
    {
      "cell_type": "code",
      "metadata": {
        "id": "5Ff3vDsQb2Zc"
      },
      "source": [],
      "execution_count": null,
      "outputs": []
    },
    {
      "cell_type": "code",
      "metadata": {
        "id": "1oCArLijbhEt"
      },
      "source": [
        "# Solution 4: Open 22nd file and read the first 10 lines\n",
        "# 'with' command ensures file is automatically closed when finished with\n",
        "with open(lst_scripts[21]) as f:\n",
        "    lines = f.readlines()\n",
        "    for line in lines[0:10]:\n",
        "        print(line.strip())  # strip any white space from end of str including '\\n'"
      ],
      "execution_count": null,
      "outputs": []
    },
    {
      "cell_type": "code",
      "metadata": {
        "id": "N2VXrjER5tFf"
      },
      "source": [
        "# Find the Title line in file (first line to contain the word meetup or Meetup or MeetUp)\n",
        "import re  # regular expression library - see meetup074\n",
        "# This is the regular expression we are using\n",
        "ptn_docstring = re.compile(r\".*meetup\", re.IGNORECASE)\n",
        "lst_meetup = []\n",
        "\n",
        "for script_path in lst_scripts:\n",
        "    # default encoding is platform dependent\n",
        "    with open(script_path, \"r\", encoding=\"UTF-8\") as f:\n",
        "        for line in f:\n",
        "            if ptn_docstring.match(line):  # match finds at start of str\n",
        "                lst_meetup.append(line.strip())\n",
        "                break  # jump out of enclosing loop\n",
        "for t in lst_meetup:\n",
        "    print(t)\n"
      ],
      "execution_count": null,
      "outputs": []
    },
    {
      "cell_type": "code",
      "metadata": {
        "id": "XjjQE35jgUt1"
      },
      "source": [
        "# We have the title line, can we find the date. To parse the date it needs to be in correct format\n",
        "import datetime\n",
        "print(datetime.datetime.strptime(\"24 Mar 2020\", \"%d %b %Y\").date())\n",
        "print(datetime.datetime.strptime(\"24th Mar 2020\", \"%dth %b %Y\").date())"
      ],
      "execution_count": null,
      "outputs": []
    },
    {
      "cell_type": "code",
      "metadata": {
        "id": "YLY21P7A9fzx"
      },
      "source": [
        "# Find the date for each session\n",
        "# Pattern is\n",
        "# one to two digits\n",
        "# optionally followed by two letters\n",
        "# followed by a space\n",
        "# followed by 3 letters\n",
        "# followed by a space\n",
        "# followed by 4 digits\n",
        "def date_from_meetup(meetup):\n",
        "    ptn_date = re.compile(r\"([0-9]{1,2})([a-zA-Z]{2})? ([a-zA-Z]{3,4}) ([0-9]{4})\")\n",
        "    m = ptn_date.search(meetup)  # search finds anywhere in str\n",
        "    if m:\n",
        "        # full match is in group(0)\n",
        "        d = m.group(1)  # match in first ()\n",
        "        b = m.group(3)  # match in third ()\n",
        "        y = m.group(4)  # match in fourth ()\n",
        "        return datetime.datetime.strptime(f'{d} {b[:3]} {y}', '%d %b %Y').date()\n",
        "\n",
        "for t in lst_meetup:\n",
        "    print(date_from_meetup(t), t)"
      ],
      "execution_count": null,
      "outputs": []
    },
    {
      "cell_type": "code",
      "metadata": {
        "id": "HexbQOE-mveR"
      },
      "source": [
        "# Task 5 use regular expression to find Youtube URL for each meetup"
      ],
      "execution_count": null,
      "outputs": []
    },
    {
      "cell_type": "code",
      "metadata": {
        "id": "O_onds6bsx-m"
      },
      "source": [],
      "execution_count": null,
      "outputs": []
    },
    {
      "cell_type": "code",
      "metadata": {
        "id": "rP3qk6qwgEmY"
      },
      "source": [
        "# Solution 5: defined in a function so we can use it later\n",
        "def parse_py_lines(path_script, lst_title):\n",
        "    \"\"\"Find first of each title in python file\"\"\"\n",
        "    first = {}\n",
        "    # Possible regular expressions we could use for python scripts or markdown\n",
        "    ptn_docstring_py = re.compile(r\"\"\"^[fr]{0,2}['\\\"]{3}.*\"\"\")\n",
        "    ptn_docstring_md = re.compile(r\"\"\"# Meet[Uu]p.*\"\"\")\n",
        "\n",
        "    # search for title followed by : then optional spaces then URL (any chars except <>) surrounded optionally by <>\n",
        "    dct_ptn_title = {k:re.compile(k + r\":\\s*<?([^>]*)>?\", re.IGNORECASE) for k in lst_title}\n",
        "    with open(path_script, \"r\", encoding=\"UTF-8\") as f:\n",
        "        for line in f:\n",
        "            m =\n",
        "            if \"docstring\" not in first:\n",
        "                if m:=ptn_docstring_py.search(line):\n",
        "                    first[\"docstring\"] = m.group(1)\n",
        "                elif m:=ptn_docstring_md.search(line):\n",
        "                    first[\"docstring\"] = m.group(1)\n",
        "            for title in lst_title:\n",
        "                m = dct_ptn_title[title].search(line.lower())\n",
        "                if title not in first and m:\n",
        "                    # m.start gives us the index of the first char in the group\n",
        "                    first[title] = line[m.start(1):m.end(1)].strip()\n",
        "        return first\n",
        "\n",
        "for script_path in lst_scripts:\n",
        "    dct = parse_py_lines(script_path, [\"Youtube\"])\n",
        "    print(dct)"
      ],
      "execution_count": null,
      "outputs": []
    },
    {
      "cell_type": "code",
      "metadata": {
        "id": "Vo_gWawRoDVv"
      },
      "source": [
        "print(parse_py_lines(lst_scripts[0], [\"Youtube\", \"Colab\", \"Meetup\", \"Github\"]))"
      ],
      "execution_count": null,
      "outputs": []
    },
    {
      "cell_type": "code",
      "metadata": {
        "id": "6KeAsGuHveB6"
      },
      "source": [
        "# Task 6: Create a spreadsheet with columns\n",
        "# Meetup, Script in sheet scripts\n",
        "# Meetup, Date, Youtube, Meetup, Colab, Github, docstring in sheet links"
      ],
      "execution_count": null,
      "outputs": []
    },
    {
      "cell_type": "code",
      "metadata": {
        "id": "ZkTEmUIQvduu"
      },
      "source": [],
      "execution_count": null,
      "outputs": []
    },
    {
      "cell_type": "code",
      "metadata": {
        "id": "uCjCJyx1vHVv"
      },
      "source": [
        "# Solution 6\n",
        "def url_last(dct, lst_title):\n",
        "    \"\"\"Find the last segment of the url given the dict of data from script and the list of titles in order to try to find a url\"\"\"\n",
        "    ptn_url_last = re.compile(r\".*/([^/]+)/?>?\")\n",
        "    for title in lst_title:\n",
        "        url = dct.get(title, None)\n",
        "        if url:\n",
        "            break\n",
        "    else:\n",
        "        return None, None\n",
        "    m = ptn_url_last.search(url)\n",
        "    if m:\n",
        "        str_last = m.group(1)\n",
        "    else:\n",
        "        str_last = url\n",
        "    return url, str_last\n",
        "\n",
        "with xlsxwriter.Workbook(\"bpaml-links-6.xlsx\") as workbook:\n",
        "    worksheet = workbook.add_worksheet(\"scripts\")\n",
        "    dcf_col_a = {\"align\": \"center\", \"num_format\": \"000\"}\n",
        "    dcf_row_1 = {\"bold\": True}\n",
        "    dcf_col_dt = {\"align\": \"center\", \"num_format\": \"dd mmm yyyy\"}\n",
        "    fmt_col_a = workbook.add_format(dcf_col_a)\n",
        "    fmt_row_1 = workbook.add_format(dcf_row_1)\n",
        "    fmt_col_dt = workbook.add_format(dcf_col_dt)\n",
        "    fmt_a1 = workbook.add_format({**dcf_col_a, **dcf_row_1})\n",
        "    # Set column widths\n",
        "    worksheet.set_column(\"B:B\", 50)\n",
        "    # Add titles\n",
        "    worksheet.write(\"A1\", \"Meetup\"     , fmt_a1)\n",
        "    worksheet.write(\"B1\", \"Script name\", fmt_row_1)\n",
        "    # Add data to\n",
        "    for i, script in enumerate(lst_scripts):\n",
        "        row = i + 2\n",
        "        meetup = int(script.name[6:9])\n",
        "        worksheet.write(f\"A{row}\", meetup     , fmt_col_a)\n",
        "        worksheet.write(f\"B{row}\", script.stem)\n",
        "    # Calculate total of all meetup numbers\n",
        "    worksheet.write(f\"A{row+2}\", f\"=SUM(A2:A{row})\", fmt_col_a)\n",
        "\n",
        "    worksheet = workbook.add_worksheet(\"links\")\n",
        "    worksheet.set_column(\"B:D\", 15)\n",
        "    worksheet.set_column(\"E:G\", 45)\n",
        "\n",
        "    lst_title = [\"Youtube\", \"Meetup\", \"Colab\", \"Github\", \"Source\"]\n",
        "    worksheet.write(\"A1\", \"Meetup\", fmt_a1)\n",
        "    worksheet.write(\"B1\", \"Date\", fmt_a1)\n",
        "    for j, title in enumerate(lst_title[:4]):\n",
        "        worksheet.write(0, j + 2, title, fmt_row_1)\n",
        "    worksheet.write(0, j + 3, \"Description\", fmt_row_1)\n",
        "    ptn_meetup_name = re.compile(r\".* - (.*)\")\n",
        "    for i, script in enumerate(lst_scripts):\n",
        "        meetup = int(script.name[6:9])\n",
        "        dct = parse_py_lines(script, lst_title)\n",
        "        dt = date_from_meetup(dct['docstring'])\n",
        "        worksheet.write(i + 1, 0, int(meetup), fmt_col_a)\n",
        "        worksheet.write(i + 1, 1, dt, fmt_col_dt)\n",
        "        for j, title in enumerate(lst_title[:3]):\n",
        "            url, str_last = url_last(dct, [title])\n",
        "            if url:\n",
        "                worksheet.write_url(i + 1, j + 2, url, string=str_last)\n",
        "        url, str_last = url_last(dct, [lst_title[4], lst_title[3]])\n",
        "        if url:\n",
        "            worksheet.write_url(i + 1, j + 3, url, string=str_last)\n",
        "        m = ptn_meetup_name.search(dct[\"docstring\"])\n",
        "        if m:\n",
        "            worksheet.write(i + 1, j + 4, m.group(1))"
      ],
      "execution_count": null,
      "outputs": []
    },
    {
      "cell_type": "code",
      "metadata": {
        "id": "ZRQ51heEqz-Q"
      },
      "source": [],
      "execution_count": null,
      "outputs": []
    }
  ]
}